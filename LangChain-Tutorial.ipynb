{
 "cells": [
  {
   "cell_type": "markdown",
   "metadata": {},
   "source": [
    "# LangChain - Tutorial\n",
    "\n",
    "I am using this notebook to experiment with the LangChain library and associated tools such as agents and chains."
   ]
  },
  {
   "cell_type": "markdown",
   "metadata": {},
   "source": [
    "## pip installs"
   ]
  },
  {
   "cell_type": "code",
   "execution_count": 11,
   "metadata": {
    "collapsed": true
   },
   "outputs": [
    {
     "name": "stdout",
     "output_type": "stream",
     "text": [
      "Collecting openai\n",
      "  Downloading openai-0.27.6-py3-none-any.whl (71 kB)\n",
      "\u001b[2K     \u001b[90m━━━━━━━━━━━━━━━━━━━━━━━━━━━━━━━━━━━━━━━\u001b[0m \u001b[32m71.9/71.9 kB\u001b[0m \u001b[31m451.5 kB/s\u001b[0m eta \u001b[36m0:00:00\u001b[0m00:01\u001b[0m00:01\u001b[0m\n",
      "\u001b[?25hRequirement already satisfied: requests>=2.20 in /Library/Frameworks/Python.framework/Versions/3.8/lib/python3.8/site-packages (from openai) (2.22.0)\n",
      "Requirement already satisfied: tqdm in /Library/Frameworks/Python.framework/Versions/3.8/lib/python3.8/site-packages (from openai) (4.48.0)\n",
      "Requirement already satisfied: aiohttp in /Library/Frameworks/Python.framework/Versions/3.8/lib/python3.8/site-packages (from openai) (3.8.4)\n",
      "Requirement already satisfied: chardet<3.1.0,>=3.0.2 in /Library/Frameworks/Python.framework/Versions/3.8/lib/python3.8/site-packages (from requests>=2.20->openai) (3.0.4)\n",
      "Requirement already satisfied: idna<2.9,>=2.5 in /Library/Frameworks/Python.framework/Versions/3.8/lib/python3.8/site-packages (from requests>=2.20->openai) (2.8)\n",
      "Requirement already satisfied: urllib3!=1.25.0,!=1.25.1,<1.26,>=1.21.1 in /Library/Frameworks/Python.framework/Versions/3.8/lib/python3.8/site-packages (from requests>=2.20->openai) (1.25.11)\n",
      "Requirement already satisfied: certifi>=2017.4.17 in /Library/Frameworks/Python.framework/Versions/3.8/lib/python3.8/site-packages (from requests>=2.20->openai) (2019.11.28)\n",
      "Requirement already satisfied: attrs>=17.3.0 in /Library/Frameworks/Python.framework/Versions/3.8/lib/python3.8/site-packages (from aiohttp->openai) (22.1.0)\n",
      "Requirement already satisfied: charset-normalizer<4.0,>=2.0 in /Library/Frameworks/Python.framework/Versions/3.8/lib/python3.8/site-packages (from aiohttp->openai) (3.1.0)\n",
      "Requirement already satisfied: multidict<7.0,>=4.5 in /Library/Frameworks/Python.framework/Versions/3.8/lib/python3.8/site-packages (from aiohttp->openai) (6.0.4)\n",
      "Requirement already satisfied: async-timeout<5.0,>=4.0.0a3 in /Library/Frameworks/Python.framework/Versions/3.8/lib/python3.8/site-packages (from aiohttp->openai) (4.0.2)\n",
      "Requirement already satisfied: yarl<2.0,>=1.0 in /Library/Frameworks/Python.framework/Versions/3.8/lib/python3.8/site-packages (from aiohttp->openai) (1.9.2)\n",
      "Requirement already satisfied: frozenlist>=1.1.1 in /Library/Frameworks/Python.framework/Versions/3.8/lib/python3.8/site-packages (from aiohttp->openai) (1.3.3)\n",
      "Requirement already satisfied: aiosignal>=1.1.2 in /Library/Frameworks/Python.framework/Versions/3.8/lib/python3.8/site-packages (from aiohttp->openai) (1.3.1)\n",
      "Installing collected packages: openai\n",
      "Successfully installed openai-0.27.6\n"
     ]
    }
   ],
   "source": [
    "!pip install openai"
   ]
  },
  {
   "cell_type": "markdown",
   "metadata": {},
   "source": [
    "## Imports"
   ]
  },
  {
   "cell_type": "code",
   "execution_count": 20,
   "metadata": {},
   "outputs": [],
   "source": [
    "import os\n",
    "from secrets import OPENAI_API_KEY\n",
    "from langchain.prompts import PromptTemplate\n",
    "from langchain.llms import OpenAI\n",
    "from langchain.chat_models import ChatOpenAI\n",
    "from langchain.chains import LLMChain, PALChain, SimpleSequentialChain"
   ]
  },
  {
   "cell_type": "markdown",
   "metadata": {},
   "source": [
    "## Set API Keys"
   ]
  },
  {
   "cell_type": "code",
   "execution_count": 2,
   "metadata": {},
   "outputs": [],
   "source": [
    "os.environ[\"OPENAI_API_KEY\"] = OPENAI_API_KEY"
   ]
  },
  {
   "cell_type": "markdown",
   "metadata": {},
   "source": [
    "## Prompt Creation"
   ]
  },
  {
   "cell_type": "code",
   "execution_count": 3,
   "metadata": {},
   "outputs": [
    {
     "name": "stdout",
     "output_type": "stream",
     "text": [
      "What is a good song to listen to when I am feeling sad?\n"
     ]
    }
   ],
   "source": [
    "prompt = PromptTemplate(\n",
    "                input_variables=[\"mood\"],\n",
    "                template=\"What is a good song to listen to when I am feeling {mood}?\")\n",
    "\n",
    "print(prompt.format(mood=\"sad\"))"
   ]
  },
  {
   "cell_type": "markdown",
   "metadata": {},
   "source": [
    "## Types of chains: Generic and Utility"
   ]
  },
  {
   "cell_type": "markdown",
   "metadata": {},
   "source": [
    "### Generic Chain"
   ]
  },
  {
   "cell_type": "code",
   "execution_count": 9,
   "metadata": {},
   "outputs": [],
   "source": [
    "llm = OpenAI(\n",
    "        model_name=\"gpt-3.5-turbo\",\n",
    "        temperature=0.9)\n",
    "\n",
    "llmchain = LLMChain(llm=llm, prompt=prompt)\n",
    "\n",
    "output = llmchain.run(\"sad\")"
   ]
  },
  {
   "cell_type": "code",
   "execution_count": 10,
   "metadata": {},
   "outputs": [
    {
     "name": "stdout",
     "output_type": "stream",
     "text": [
      "As an AI language model, I do not have feelings. However, here are some suggestions for songs that may help others when they are feeling sad:\n",
      "\n",
      "1. \"Everybody Hurts\" by R.E.M.\n",
      "2. \"Fix You\" by Coldplay\n",
      "3. \"Someone Like You\" by Adele\n",
      "4. \"Say You Love Me\" by Jessie Ware\n",
      "5. \"The Sound of Silence\" by Simon & Garfunkel\n",
      "6. \"Wake Me Up When September Ends\" by Green Day \n",
      "7. \"Let It Be\" by The Beatles\n",
      "8. \"Bridge Over Troubled Water\" by Simon & Garfunkel\n",
      "9. \"The Scientist\" by Coldplay\n",
      "10. \"Hallelujah\" by Jeff Buckley\n"
     ]
    }
   ],
   "source": [
    "print(output)"
   ]
  },
  {
   "cell_type": "code",
   "execution_count": 19,
   "metadata": {},
   "outputs": [
    {
     "name": "stdout",
     "output_type": "stream",
     "text": [
      "As an AI language model, I do not have personal experiences, emotions, or preferences. However, studies have shown that listening to calming music can help relieve anxiety. Here are some suggestions:\n",
      "\n",
      "1. Weightless by Marconi Union\n",
      "2. Clair de Lune by Claude Debussy\n",
      "3. A Moment Apart by Odesza\n",
      "4. Breathe Me by Sia\n",
      "5. The Wind Forest by Joe Hisaishi\n",
      "6. Nocturne in E-flat Major, Op. 9 No. 2 by Frederic Chopin\n",
      "7. Weight of the World by Keiichi Okabe\n",
      "8. Genesis by Grimes\n",
      "9. Moonlight Sonata by Ludwig van Beethoven\n",
      "10. Incantation by Taimane.\n"
     ]
    }
   ],
   "source": [
    "output = llmchain.run(\"anxious\")\n",
    "print(output)"
   ]
  },
  {
   "cell_type": "markdown",
   "metadata": {},
   "source": [
    "### Utility Chain"
   ]
  },
  {
   "cell_type": "code",
   "execution_count": 16,
   "metadata": {},
   "outputs": [
    {
     "name": "stdout",
     "output_type": "stream",
     "text": [
      "\n",
      "\n",
      "\u001b[1m> Entering new PALChain chain...\u001b[0m\n",
      "\u001b[32;1m\u001b[1;3mdef solution():\n",
      "    \"\"\"Alice has a collection of marbles denoted x. She distributes some of them to Bob and Charlie.\n",
      "    If Bob receives x/3 of the marbles Alice has and Charlie receives x/4 of the marbles Alice has, \n",
      "    they both end up with a total of 30 marbles. How many marbles did Alice originally have?\"\"\"\n",
      "    total_marbles = 30\n",
      "    bob_share = 1/3\n",
      "    charlie_share = 1/4\n",
      "    alice_share = 1 - bob_share - charlie_share\n",
      "    alice_marbles = total_marbles/alice_share\n",
      "    result = alice_marbles\n",
      "    return result\u001b[0m\n",
      "71.99999999999999\n",
      "\n",
      "\n",
      "\u001b[1m> Finished chain.\u001b[0m\n"
     ]
    },
    {
     "data": {
      "text/plain": [
       "'71.99999999999999'"
      ]
     },
     "execution_count": 16,
     "metadata": {},
     "output_type": "execute_result"
    }
   ],
   "source": [
    "palchain = PALChain.from_math_prompt(llm=llm, verbose=True)\n",
    "palchain.run(\"\"\"Alice has a collection of marbles. She distributes some of them to Bob and Charlie.\n",
    "             If Bob receives one-third of the marbles Alice has and \n",
    "             Charlie receives one-fourth of the marbles Alice has, \n",
    "             they both end up with a total of 30 marbles. \n",
    "             How many marbles did Alice originally have?\"\"\")\n",
    "\n",
    "# This returns the wrong answer"
   ]
  },
  {
   "cell_type": "code",
   "execution_count": 13,
   "metadata": {},
   "outputs": [
    {
     "name": "stdout",
     "output_type": "stream",
     "text": [
      "Q: Olivia has $23. She bought five bagels for $3 each. How much money does she have left?\n",
      "\n",
      "# solution in Python:\n",
      "\n",
      "\n",
      "def solution():\n",
      "    \"\"\"Olivia has $23. She bought five bagels for $3 each. How much money does she have left?\"\"\"\n",
      "    money_initial = 23\n",
      "    bagels = 5\n",
      "    bagel_cost = 3\n",
      "    money_spent = bagels * bagel_cost\n",
      "    money_left = money_initial - money_spent\n",
      "    result = money_left\n",
      "    return result\n",
      "\n",
      "\n",
      "\n",
      "\n",
      "\n",
      "Q: Michael had 58 golf balls. On tuesday, he lost 23 golf balls. On wednesday, he lost 2 more. How many golf balls did he have at the end of wednesday?\n",
      "\n",
      "# solution in Python:\n",
      "\n",
      "\n",
      "def solution():\n",
      "    \"\"\"Michael had 58 golf balls. On tuesday, he lost 23 golf balls. On wednesday, he lost 2 more. How many golf balls did he have at the end of wednesday?\"\"\"\n",
      "    golf_balls_initial = 58\n",
      "    golf_balls_lost_tuesday = 23\n",
      "    golf_balls_lost_wednesday = 2\n",
      "    golf_balls_left = golf_balls_initial - golf_balls_lost_tuesday - golf_balls_lost_wednesday\n",
      "    result = golf_balls_left\n",
      "    return result\n",
      "\n",
      "\n",
      "\n",
      "\n",
      "\n",
      "Q: There were nine computers in the server room. Five more computers were installed each day, from monday to thursday. How many computers are now in the server room?\n",
      "\n",
      "# solution in Python:\n",
      "\n",
      "\n",
      "def solution():\n",
      "    \"\"\"There were nine computers in the server room. Five more computers were installed each day, from monday to thursday. How many computers are now in the server room?\"\"\"\n",
      "    computers_initial = 9\n",
      "    computers_per_day = 5\n",
      "    num_days = 4  # 4 days between monday and thursday\n",
      "    computers_added = computers_per_day * num_days\n",
      "    computers_total = computers_initial + computers_added\n",
      "    result = computers_total\n",
      "    return result\n",
      "\n",
      "\n",
      "\n",
      "\n",
      "\n",
      "Q: Shawn has five toys. For Christmas, he got two toys each from his mom and dad. How many toys does he have now?\n",
      "\n",
      "# solution in Python:\n",
      "\n",
      "\n",
      "def solution():\n",
      "    \"\"\"Shawn has five toys. For Christmas, he got two toys each from his mom and dad. How many toys does he have now?\"\"\"\n",
      "    toys_initial = 5\n",
      "    mom_toys = 2\n",
      "    dad_toys = 2\n",
      "    total_received = mom_toys + dad_toys\n",
      "    total_toys = toys_initial + total_received\n",
      "    result = total_toys\n",
      "    return result\n",
      "\n",
      "\n",
      "\n",
      "\n",
      "\n",
      "Q: Jason had 20 lollipops. He gave Denny some lollipops. Now Jason has 12 lollipops. How many lollipops did Jason give to Denny?\n",
      "\n",
      "# solution in Python:\n",
      "\n",
      "\n",
      "def solution():\n",
      "    \"\"\"Jason had 20 lollipops. He gave Denny some lollipops. Now Jason has 12 lollipops. How many lollipops did Jason give to Denny?\"\"\"\n",
      "    jason_lollipops_initial = 20\n",
      "    jason_lollipops_after = 12\n",
      "    denny_lollipops = jason_lollipops_initial - jason_lollipops_after\n",
      "    result = denny_lollipops\n",
      "    return result\n",
      "\n",
      "\n",
      "\n",
      "\n",
      "\n",
      "Q: Leah had 32 chocolates and her sister had 42. If they ate 35, how many pieces do they have left in total?\n",
      "\n",
      "# solution in Python:\n",
      "\n",
      "\n",
      "def solution():\n",
      "    \"\"\"Leah had 32 chocolates and her sister had 42. If they ate 35, how many pieces do they have left in total?\"\"\"\n",
      "    leah_chocolates = 32\n",
      "    sister_chocolates = 42\n",
      "    total_chocolates = leah_chocolates + sister_chocolates\n",
      "    chocolates_eaten = 35\n",
      "    chocolates_left = total_chocolates - chocolates_eaten\n",
      "    result = chocolates_left\n",
      "    return result\n",
      "\n",
      "\n",
      "\n",
      "\n",
      "\n",
      "Q: If there are 3 cars in the parking lot and 2 more cars arrive, how many cars are in the parking lot?\n",
      "\n",
      "# solution in Python:\n",
      "\n",
      "\n",
      "def solution():\n",
      "    \"\"\"If there are 3 cars in the parking lot and 2 more cars arrive, how many cars are in the parking lot?\"\"\"\n",
      "    cars_initial = 3\n",
      "    cars_arrived = 2\n",
      "    total_cars = cars_initial + cars_arrived\n",
      "    result = total_cars\n",
      "    return result\n",
      "\n",
      "\n",
      "\n",
      "\n",
      "\n",
      "Q: There are 15 trees in the grove. Grove workers will plant trees in the grove today. After they are done, there will be 21 trees. How many trees did the grove workers plant today?\n",
      "\n",
      "# solution in Python:\n",
      "\n",
      "\n",
      "def solution():\n",
      "    \"\"\"There are 15 trees in the grove. Grove workers will plant trees in the grove today. After they are done, there will be 21 trees. How many trees did the grove workers plant today?\"\"\"\n",
      "    trees_initial = 15\n",
      "    trees_after = 21\n",
      "    trees_added = trees_after - trees_initial\n",
      "    result = trees_added\n",
      "    return result\n",
      "\n",
      "\n",
      "\n",
      "\n",
      "\n",
      "Q: {question}\n",
      "\n",
      "# solution in Python:\n",
      "\n",
      "\n",
      "\n"
     ]
    }
   ],
   "source": [
    "print(palchain.prompt.template)"
   ]
  },
  {
   "cell_type": "code",
   "execution_count": 17,
   "metadata": {},
   "outputs": [
    {
     "name": "stdout",
     "output_type": "stream",
     "text": [
      "\n",
      "\n",
      "\u001b[1m> Entering new PALChain chain...\u001b[0m\n",
      "\u001b[32;1m\u001b[1;3mdef solution():\n",
      "    \"\"\"Tom bought several apples and oranges at the grocery store. The ratio of the number of apples to oranges is 3:4. If Tom bought a total of 49 fruits, how many oranges did he buy?\"\"\"\n",
      "    ratio_apple_orange = 3/4\n",
      "    total_fruits = 49\n",
      "    total_ratio_parts = 3 + 4  # total parts in the ratio\n",
      "    orange_ratio_parts = 4  # parts representing oranges in the ratio\n",
      "    orange_fruits = (orange_ratio_parts/total_ratio_parts) * total_fruits\n",
      "    result = orange_fruits\n",
      "    return result\u001b[0m\n",
      "28.0\n",
      "\n",
      "\n",
      "\u001b[1m> Finished chain.\u001b[0m\n"
     ]
    },
    {
     "data": {
      "text/plain": [
       "'28.0'"
      ]
     },
     "execution_count": 17,
     "metadata": {},
     "output_type": "execute_result"
    }
   ],
   "source": [
    "palchain.run(\"\"\"Tom bought several apples and oranges at the grocery store. \n",
    "                The ratio of the number of apples to oranges is 3:4. \n",
    "                If Tom bought a total of 49 fruits, how many oranges did he buy?\"\"\")"
   ]
  },
  {
   "cell_type": "code",
   "execution_count": 18,
   "metadata": {},
   "outputs": [
    {
     "name": "stdout",
     "output_type": "stream",
     "text": [
      "\n",
      "\n",
      "\u001b[1m> Entering new PALChain chain...\u001b[0m\n",
      "\u001b[32;1m\u001b[1;3mdef solution():\n",
      "    \"\"\"Alex contributes 3/8 of the total cost, Ben contributes 1/4 of the total cost, \n",
      "    and Charlie contributes the remaining $120. If the total cost of the gift is $480, \n",
      "    how much did each of them contribute?\"\"\"\n",
      "    total_cost = 480\n",
      "    charlie_contribution = 120\n",
      "    alex_contribution = total_cost * (3/8)\n",
      "    ben_contribution = total_cost * (1/4)\n",
      "    total_contributions = alex_contribution + ben_contribution + charlie_contribution\n",
      "    result = (alex_contribution, ben_contribution, charlie_contribution)\n",
      "    return result\u001b[0m\n",
      "(180.0, 120.0, 120)\n",
      "\n",
      "\n",
      "\u001b[1m> Finished chain.\u001b[0m\n"
     ]
    },
    {
     "data": {
      "text/plain": [
       "'(180.0, 120.0, 120)'"
      ]
     },
     "execution_count": 18,
     "metadata": {},
     "output_type": "execute_result"
    }
   ],
   "source": [
    "palchain.run(\"\"\"Alex, Ben, and Charlie are friends. They decide to buy a gift together. \n",
    "                Alex contributes 3/8 of the total cost, Ben contributes 1/4 of the total cost, \n",
    "                and Charlie contributes the remaining $120. If the total cost of the gift is $480, \n",
    "                how much did each of them contribute?\"\"\")\n",
    "\n",
    "# Wrong answer"
   ]
  },
  {
   "cell_type": "markdown",
   "metadata": {},
   "source": [
    "### Sequential Chains\n",
    "<a href=\"https://python.langchain.com/en/latest/modules/chains/generic/sequential_chains.html#simplesequentialchain\">Source</a>"
   ]
  },
  {
   "cell_type": "markdown",
   "metadata": {},
   "source": [
    "#### SimpleSequentialChain"
   ]
  },
  {
   "cell_type": "code",
   "execution_count": 22,
   "metadata": {},
   "outputs": [],
   "source": [
    "# This is an LLMChain that writes a song lyrics given a name of a song\n",
    "llm = OpenAI(temperature=0.7)\n",
    "\n",
    "template=\"\"\"You are a song writer. Given the name of a song, it is your job to write the lyrics for that song.\n",
    "\n",
    "Name: {name}\n",
    "\n",
    "Song writer: These are the lyrics for the above song:\"\"\"\n",
    "\n",
    "prompt_template = PromptTemplate(input_variables=[\"name\"], template=template)\n",
    "\n",
    "lyrics_chain = LLMChain(llm=llm, prompt=prompt_template)"
   ]
  },
  {
   "cell_type": "code",
   "execution_count": 23,
   "metadata": {},
   "outputs": [],
   "source": [
    "# This is an LLMChain that writes a review of a song's lyrics given the lyrics.\n",
    "llm = OpenAI(temperature=0.7)\n",
    "\n",
    "template=\"\"\"You are a song critic from The Guardian. Given lyrics to a song, it is your job to write a review for that song\n",
    "\n",
    "Song Review: {song}\n",
    "\n",
    "Review from a The Guardian song critic of the above play:\"\"\"\n",
    "\n",
    "prompt_template = PromptTemplate(input_variables=[\"song\"], template=template)\n",
    "\n",
    "review_chain = LLMChain(llm=llm, prompt=prompt_template)"
   ]
  },
  {
   "cell_type": "code",
   "execution_count": 24,
   "metadata": {},
   "outputs": [],
   "source": [
    "# Now we can chain the above LLMChains and run them in sequence using the output from chain#1 as input for chain#2\n",
    "overall_chain=SimpleSequentialChain(chains=[lyrics_chain, review_chain], verbose=True)"
   ]
  },
  {
   "cell_type": "code",
   "execution_count": 26,
   "metadata": {},
   "outputs": [
    {
     "name": "stdout",
     "output_type": "stream",
     "text": [
      "\n",
      "\n",
      "\u001b[1m> Entering new SimpleSequentialChain chain...\u001b[0m\n",
      "\u001b[36;1m\u001b[1;3m\n",
      "\n",
      "Verse 1:\n",
      "I've been walking these streets of London, \n",
      "Through the fog I can hardly see. \n",
      "My broken heart is aching, \n",
      "All I can do is just breathe.\n",
      "\n",
      "Chorus:\n",
      "A broken heart in London, \n",
      "Tears streaming down my face. \n",
      "My heart is aching, \n",
      "And I'm in a lonely place.\n",
      "\n",
      "Verse 2:\n",
      "I'm so far away from home,\n",
      "No one here to share my pain.\n",
      "My heart is broken,\n",
      "I'm so lost, I can't explain.\n",
      "\n",
      "Chorus:\n",
      "A broken heart in London, \n",
      "Tears streaming down my face. \n",
      "My heart is aching, \n",
      "And I'm in a lonely place.\n",
      "\n",
      "Bridge:\n",
      "All I can do is keep on walking, \n",
      "Searching for a sign of hope. \n",
      "My broken heart's been through so much,\n",
      "But I will keep on trying to cope.\n",
      "\n",
      "Chorus:\n",
      "A broken heart in London, \n",
      "Tears streaming down my face. \n",
      "My heart is aching, \n",
      "And I'm in a lonely place.\u001b[0m\n",
      "\u001b[33;1m\u001b[1;3m\n",
      "\n",
      "This song is a poignant reflection on heartache and loneliness, a theme that many of us can relate to. The lyrics are beautifully crafted and the melody is hauntingly beautiful. The imagery in the verses and chorus of being lost in a foggy London, with tears streaming down the face, is powerful and evocative. The bridge adds a touch of hope and resilience, a reminder that there is light at the end of the tunnel. Overall, this song is a beautiful piece of art, and it is sure to resonate with many listeners.\u001b[0m\n",
      "\n",
      "\u001b[1m> Finished chain.\u001b[0m\n"
     ]
    }
   ],
   "source": [
    "review = overall_chain.run(\"A broken heart in London\")"
   ]
  },
  {
   "cell_type": "code",
   "execution_count": null,
   "metadata": {},
   "outputs": [],
   "source": []
  }
 ],
 "metadata": {
  "kernelspec": {
   "display_name": "Python 3",
   "language": "python",
   "name": "python3"
  },
  "language_info": {
   "codemirror_mode": {
    "name": "ipython",
    "version": 3
   },
   "file_extension": ".py",
   "mimetype": "text/x-python",
   "name": "python",
   "nbconvert_exporter": "python",
   "pygments_lexer": "ipython3",
   "version": "3.8.1"
  }
 },
 "nbformat": 4,
 "nbformat_minor": 4
}
